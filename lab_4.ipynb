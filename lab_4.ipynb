{
 "cells": [
  {
   "cell_type": "raw",
   "id": "f7a7d784-6c71-4eb6-a4f9-8240d55c6006",
   "metadata": {},
   "source": [
    "1. Matrix Operation\n",
    "Perform the following operations on the given matrices: A=[[2 -1], [​0 3​]] B=[[1 ​ 2], [-3 4​]]\n",
    "a. A+B\n",
    "b. AB\n",
    "c. 3A−2B"
   ]
  },
  {
   "cell_type": "code",
   "execution_count": 3,
   "id": "b33efd09-25c0-45e5-9984-8db913f8e5ea",
   "metadata": {},
   "outputs": [],
   "source": [
    "import numpy as np\n",
    "import numpy.linalg as la\n",
    "\n",
    "# Define two matrices\n",
    "A = np.array([[2, -1],[0, 3]])\n",
    "B = np.array([[1, 2],[-3, 4]])"
   ]
  },
  {
   "cell_type": "code",
   "execution_count": 5,
   "id": "a58d5274-bdf7-4f23-84ee-2697c57d0d40",
   "metadata": {},
   "outputs": [
    {
     "name": "stdout",
     "output_type": "stream",
     "text": [
      "The addition between matix A and matrix B:\n",
      "[[ 3  1]\n",
      " [-3  7]]\n",
      "Dot product between matrices using 'np.dot':\n",
      "[[ 5  0]\n",
      " [-9 12]]\n",
      "Dot product between matrices using '@' operator:\n",
      "[[ 5  0]\n",
      " [-9 12]]\n",
      "The substraction '3A - 2B':\n",
      "[[ 4 -7]\n",
      " [ 6  1]]\n"
     ]
    }
   ],
   "source": [
    "# Compute addition between two matrices\n",
    "print(\"The addition between matix A and matrix B:\")\n",
    "print(A + B)\n",
    "\n",
    "# Compute the dot product using 'np.dot'\n",
    "print(\"Dot product between matrices using 'np.dot':\")\n",
    "print(np.dot(A, B))\n",
    "\n",
    "# Compute the dot product using @ operator\n",
    "print(\"Dot product between matrices using '@' operator:\")\n",
    "print(A @ B)\n",
    "\n",
    "# Compute '3A - 2B'\n",
    "print(\"The substraction '3A - 2B':\")\n",
    "print((3 * A) - (2 * B ))"
   ]
  },
  {
   "cell_type": "raw",
   "id": "98c3cc72-7fcf-4307-b7ab-b0a98a9c7557",
   "metadata": {},
   "source": [
    "2. Determinants and Inverses\n",
    "Find the determinant of A. Determine whether A is invertible. If yes, calculate A^-1."
   ]
  },
  {
   "cell_type": "code",
   "execution_count": 7,
   "id": "c584b4e0-8d31-4fc4-9e60-c1168bb1ab0c",
   "metadata": {},
   "outputs": [
    {
     "name": "stdout",
     "output_type": "stream",
     "text": [
      "The determinant of A is: 6.0\n",
      "The matrix is invertible (determinant != 0).\n",
      "The inverse of A is:\n",
      "[[0.5        0.16666667]\n",
      " [0.         0.33333333]]\n"
     ]
    }
   ],
   "source": [
    "# Computing determinant and inverse of matrix_a\n",
    "deter_A = la.det(A)\n",
    "inverse_A = la.inv(A)\n",
    "print(\"The determinant of A is:\",deter_A)\n",
    "\n",
    "if deter_A != 0:\n",
    "    print(\"The matrix is invertible (determinant != 0).\")\n",
    "    print(\"The inverse of A is:\")\n",
    "    print(inverse_A)\n",
    "\n",
    "else:\n",
    "    print(\"The matrix is not invertible.\")"
   ]
  },
  {
   "cell_type": "raw",
   "id": "969a7e58-f652-4e5c-8a51-9b76951a192d",
   "metadata": {},
   "source": [
    "3. Eigenvalues and Eigenvectors\n",
    "Compute the eigenvalues and eigenvectors of the matrix: C=[[4 1], [​−2 1]​]"
   ]
  },
  {
   "cell_type": "code",
   "execution_count": 9,
   "id": "5efacd35-f72a-416a-9be7-07ce104918a3",
   "metadata": {},
   "outputs": [
    {
     "name": "stdout",
     "output_type": "stream",
     "text": [
      "Marix C:\n",
      "[[ 4  1]\n",
      " [-2  1]]\n",
      "Eigenvalue: [3. 2.]\n",
      "Corresponding Eigenvector:\n",
      " [[ 0.70710678 -0.4472136 ]\n",
      " [-0.70710678  0.89442719]]\n"
     ]
    }
   ],
   "source": [
    "# Defining the matrix\n",
    "C = np.array([[4, 1], [-2, 1]])\n",
    "\n",
    "# Compute Eigenvalues and Eigenvectors\n",
    "eigenvalues, eigenvectors = la.eig(C)\n",
    "\n",
    "# Print the result\n",
    "print(\"Marix C:\")\n",
    "print(C)\n",
    "print(\"Eigenvalue:\", eigenvalues)\n",
    "print(\"Corresponding Eigenvector:\\n\", eigenvectors)"
   ]
  },
  {
   "cell_type": "raw",
   "id": "0ddf7cbe-4e7c-43ed-9ca1-06b2110b534d",
   "metadata": {},
   "source": [
    "4. You are given a dataset of cars with the following features:Number of cylinders (x1​)Engine size in liters (x2​)Horsepower (x3)\n",
    "car 1:\n",
    "x1: 4\n",
    "x2: 1.5\n",
    "x3: 100\n",
    "and price: 20\n",
    "\n",
    "car 2:\n",
    "x1: 6\n",
    "x2: 2.0\n",
    "x3: 150\n",
    "and price: 30\n",
    "\n",
    "Then, find the price of a car 3 with features\n",
    "x1: 8\n",
    "x2: 3.0\n",
    "x3: 200\n",
    "price:?"
   ]
  },
  {
   "cell_type": "code",
   "execution_count": 11,
   "id": "a14e7a46-a48d-4aed-8a46-e7f9f4b03b86",
   "metadata": {},
   "outputs": [
    {
     "name": "stdout",
     "output_type": "stream",
     "text": [
      "The price of car 3 is  39.99999999999998\n"
     ]
    }
   ],
   "source": [
    "# Given data\n",
    "X = np.array([[4, 1.5, 100],\n",
    "              [6, 2.0, 150]])  # Features for Car 1 and Car 2\n",
    "\n",
    "Y = np.array([20, 30])  # Prices for Car 1 and Car 2\n",
    "beta = la.pinv(X) @ Y #using psudoinv for numerical stability\n",
    "car3 = np.array([8, 3.0, 200]) #dataset for car3\n",
    "car3_price = car3 @ beta #predicting price of car3 by doing dot product of car3 and beta\n",
    "print(\"The price of car 3 is \", car3_price)"
   ]
  },
  {
   "cell_type": "code",
   "execution_count": null,
   "id": "c461bc41-282c-4841-acde-b5dc4e0d0ac9",
   "metadata": {},
   "outputs": [],
   "source": []
  }
 ],
 "metadata": {
  "kernelspec": {
   "display_name": "Python 3 (ipykernel)",
   "language": "python",
   "name": "python3"
  },
  "language_info": {
   "codemirror_mode": {
    "name": "ipython",
    "version": 3
   },
   "file_extension": ".py",
   "mimetype": "text/x-python",
   "name": "python",
   "nbconvert_exporter": "python",
   "pygments_lexer": "ipython3",
   "version": "3.12.4"
  }
 },
 "nbformat": 4,
 "nbformat_minor": 5
}
