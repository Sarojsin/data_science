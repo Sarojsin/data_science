{
 "cells": [
  {
   "cell_type": "markdown",
   "metadata": {},
   "source": [
    "## Probability and statistic\n"
   ]
  },
  {
   "cell_type": "code",
   "execution_count": 1,
   "metadata": {},
   "outputs": [
    {
     "name": "stdout",
     "output_type": "stream",
     "text": [
      "The probability of rolling a 3 is: 0.16666666666666666\n"
     ]
    }
   ],
   "source": [
    "# sample example in the code \n",
    "# Total number of outcomes\n",
    "total_outcomes = 6\n",
    "\n",
    "# Number of favorable outcomes (rolling a 3)\n",
    "favorable_outcomes = 1\n",
    "\n",
    "# Probability of rolling a 3\n",
    "probability = favorable_outcomes / total_outcomes\n",
    "print(f\"The probability of rolling a 3 is: {probability}\")"
   ]
  },
  {
   "cell_type": "code",
   "execution_count": 2,
   "metadata": {},
   "outputs": [
    {
     "name": "stdout",
     "output_type": "stream",
     "text": [
      "31.001371742112482 % of yours visitors are repeated visitors\n"
     ]
    }
   ],
   "source": [
    "# Question: we have to calculate the number of way person can come back, which doesnot really make sense at all!! So we have to use approach of Bayesian \n",
    "# Let say 1458 unique visitors in pask week 452 were repeat visitor.\n",
    "\n",
    "total_visitors = 1458\n",
    "\n",
    "# Number of repeat visitors\n",
    "repeated_visitor = 452\n",
    "\n",
    "# Probability of repeated visitor\n",
    "probability = repeated_visitor / total_visitors\n",
    "print(f\"{probability*100} % of yours visitors are repeated visitors\")"
   ]
  },
  {
   "cell_type": "code",
   "execution_count": 3,
   "metadata": {},
   "outputs": [
    {
     "name": "stdout",
     "output_type": "stream",
     "text": [
      "when small number of data\n",
      "       means\n",
      "0  5.000000\n",
      "1  6.500000\n",
      "2  2.333333\n",
      "3  6.750000\n",
      "4  4.600000\n",
      "when we increase data\n",
      "          means\n",
      "9994  5.006303\n",
      "9995  5.016807\n",
      "9996  4.969891\n",
      "9997  4.981596\n",
      "9998  5.020102\n"
     ]
    }
   ],
   "source": [
    "# answer\n",
    "import numpy as np\n",
    "import pandas as pd\n",
    "from matplotlib import pyplot as plt\n",
    "\n",
    "%matplotlib inline\n",
    "\n",
    "\n",
    "results = []\n",
    "\n",
    "for n in range(1, 10000):\n",
    "    nums = np.random.randint(low=1, high=10, size=n)\n",
    "    mean = nums.mean()\n",
    "    results.append(mean)\n",
    "\n",
    "df = pd.DataFrame({'means': results})\n",
    "print(\"when small number of data\\n\",df.head())\n",
    "print(\"when we increase data\\n\",df.tail())"
   ]
  },
  {
   "cell_type": "code",
   "execution_count": 4,
   "metadata": {},
   "outputs": [
    {
     "data": {
      "text/plain": [
       "Text(0.5, 0, 'Number of times')"
      ]
     },
     "execution_count": 4,
     "metadata": {},
     "output_type": "execute_result"
    },
    {
     "data": {
      "image/png": "[encoded data removed]",
      "text/plain": [
       "<Figure size 640x480 with 1 Axes>"
      ]
     },
     "metadata": {},
     "output_type": "display_data"
    }
   ],
   "source": [
    "df.plot(title=\"Law of Large Number\", color='red')\n",
    "plt.ylabel(\"Average of sample\",color='blue')\n",
    "plt.xlabel(\"Number of times\",color='green')"
   ]
  },
  {
   "cell_type": "code",
   "execution_count": 5,
   "metadata": {},
   "outputs": [
    {
     "name": "stdout",
     "output_type": "stream",
     "text": [
      "Probability of liking both Banana and Mango (P(B AND M)): 0.28\n",
      "Probability of liking Banana or Mango (P(B OR M)): 0.84\n"
     ]
    }
   ],
   "source": [
    "# A group of 100 observations, and each observation corresponds to whether a person likes banana and/or mango. We'll model the events as follows:\n",
    "\n",
    "# Banana (B): Whether a person likes banana.\n",
    "# Mango (M): Whether a person likes mango.\n",
    "# We will calculate:\n",
    "\n",
    "# P(B): Probability that a person likes banana.\n",
    "# P(M): Probability that a person likes mango.\n",
    "# P(B AND M): Probability that a person likes both banana and mango.\n",
    "# P(B OR M): Probability that a person likes either banana, mango, or both.\n",
    "\n",
    "\n",
    "import pandas as pd\n",
    "import numpy as np\n",
    "\n",
    "# Simulating a dataset of 100 people\n",
    "np.random.seed(42)\n",
    "\n",
    "# Assume 60% like bananas, 50% like mangoes\n",
    "# We'll create random data for the two events: 'Banana' and 'Mango'\n",
    "data = {\n",
    "    'Banana': np.random.choice([True, False], size=100, p=[0.6, 0.4]),  # 60% like banana\n",
    "    'Mango': np.random.choice([True, False], size=100, p=[0.5, 0.5])   # 50% like mango\n",
    "}\n",
    "\n",
    "# Creating a DataFrame\n",
    "df = pd.DataFrame(data)\n",
    "\n",
    "# View the first few rows of the dataset\n",
    "df.head()\n",
    "\n",
    "# Count the number of occurrences for each combination of events\n",
    "P_banana_and_mango = len(df[(df['Banana'] == True) & (df['Mango'] == True)]) / len(df)  # Both banana and mango\n",
    "P_banana_or_mango = len(df[(df['Banana'] == True) | (df['Mango'] == True)]) / len(df)  # Either banana or mango\n",
    "\n",
    "# Print results\n",
    "\n",
    "print(f\"Probability of liking both Banana and Mango (P(B AND M)): {P_banana_and_mango:.2f}\")\n",
    "print(f\"Probability of liking Banana or Mango (P(B OR M)): {P_banana_or_mango:.2f}\")"
   ]
  },
  {
   "cell_type": "code",
   "execution_count": 6,
   "metadata": {},
   "outputs": [
    {
     "name": "stdout",
     "output_type": "stream",
     "text": [
      "Sample Space: ['HH', 'HT', 'TH', 'TT']\n",
      "Event A (First toss is a Head): ['HH', 'HT']\n",
      "Event B (Second toss is a Tail): ['HT', 'TT']\n",
      "Event A ∩ B (First toss is a Head and second toss is a Tail): ['HT']\n"
     ]
    }
   ],
   "source": [
    "# Define the sample space for two coin tosses\n",
    "sample_space = ['HH', 'HT', 'TH', 'TT']\n",
    "\n",
    "# Define the events:\n",
    "# Event A: First toss is a Head\n",
    "event_A = [outcome for outcome in sample_space if outcome[0] == 'H']\n",
    "\n",
    "# Event B: Second toss is a Tail\n",
    "event_B = [outcome for outcome in sample_space if outcome[1] == 'T']\n",
    "\n",
    "# Event A ∩ B: First toss is a Head AND second toss is a Tail\n",
    "event_A_and_B = [outcome for outcome in sample_space if outcome[0] == 'H' and outcome[1] == 'T']\n",
    "\n",
    "# Print the events\n",
    "print(\"Sample Space:\", sample_space)\n",
    "print(\"Event A (First toss is a Head):\", event_A)\n",
    "print(\"Event B (Second toss is a Tail):\", event_B)\n",
    "print(\"Event A ∩ B (First toss is a Head and second toss is a Tail):\", event_A_and_B)"
   ]
  },
  {
   "cell_type": "code",
   "execution_count": 7,
   "metadata": {},
   "outputs": [
    {
     "name": "stdout",
     "output_type": "stream",
     "text": [
      "Conditional Probability P(A|B) = 0.50\n"
     ]
    }
   ],
   "source": [
    "# Calculate P(A ∩ B) and P(B)\n",
    "P_A_and_B = len(event_A_and_B) / len(sample_space)\n",
    "P_B = len(event_B) / len(sample_space)\n",
    "\n",
    "# Conditional Probability P(A|B)\n",
    "P_A_given_B = P_A_and_B / P_B\n",
    "\n",
    "# Print the result\n",
    "print(f\"Conditional Probability P(A|B) = {P_A_given_B:.2f}\")"
   ]
  },
  {
   "cell_type": "code",
   "execution_count": 8,
   "metadata": {},
   "outputs": [
    {
     "name": "stdout",
     "output_type": "stream",
     "text": [
      "The probability of drawing an Ace followed by a King is: 0.0060\n"
     ]
    }
   ],
   "source": [
    "# The multiplication Law \n",
    "\n",
    "# Question: The scenario involves drawing two cards from a standard deck of 52 cards without replacement.\n",
    "#  We'll calculate the probability of drawing an Ace followed by a King.\n",
    "\n",
    "# Total number of cards in the deck\n",
    "total_cards = 52\n",
    "\n",
    "# Number of Aces in the deck\n",
    "aces = 4\n",
    "\n",
    "# Number of Kings in the deck\n",
    "kings = 4\n",
    "\n",
    "# Probability of drawing an Ace first\n",
    "prob_ace = aces / total_cards\n",
    "\n",
    "# After drawing an Ace, the total cards reduce by 1, and the Kings remain the same\n",
    "prob_king_given_ace = kings / (total_cards - 1)\n",
    "\n",
    "# Using the multiplication rule for dependent events\n",
    "prob_ace_and_king = prob_ace * prob_king_given_ace\n",
    "\n",
    "# Print the result\n",
    "print(f\"The probability of drawing an Ace followed by a King is: {prob_ace_and_king:.4f}\")"
   ]
  },
  {
   "cell_type": "code",
   "execution_count": 9,
   "metadata": {},
   "outputs": [
    {
     "name": "stdout",
     "output_type": "stream",
     "text": [
      "Probability of surviving given that the passenger is female: 0.7420\n"
     ]
    }
   ],
   "source": [
    "import pandas as pd\n",
    "\n",
    "# Load the Titanic dataset\n",
    "titanic = pd.read_csv('./titanic.csv')\n",
    "\n",
    "# Select relevant columns\n",
    "titanic = titanic[['Sex', 'Survived']]\n",
    "\n",
    "# Total number of passengers\n",
    "total_passengers = len(titanic)\n",
    "\n",
    "# Calculate P(F): Probability of being female\n",
    "female_count = len(titanic[titanic['Sex'] == 'female'])\n",
    "p_female = female_count / total_passengers\n",
    "\n",
    "# Calculate P(S): Probability of surviving\n",
    "survived_count = len(titanic[titanic['Survived'] == 1])\n",
    "p_survived = survived_count / total_passengers\n",
    "\n",
    "# Calculate P(F | S): Probability of being female given survival\n",
    "female_survived_count = len(titanic[(titanic['Sex'] == 'female') & (titanic['Survived'] == 1)])\n",
    "p_female_given_survived = female_survived_count / survived_count\n",
    "\n",
    "# Apply Bayes' Theorem: P(S | F)\n",
    "p_survived_given_female = (p_female_given_survived * p_survived) / p_female\n",
    "\n",
    "# Display the result\n",
    "print(f\"Probability of surviving given that the passenger is female: {p_survived_given_female:.4f}\")"
   ]
  },
  {
   "cell_type": "code",
   "execution_count": 13,
   "metadata": {},
   "outputs": [
    {
     "name": "stdout",
     "output_type": "stream",
     "text": [
      "[28.19707907 18.62279204 28.0844051  ... 16.45089484 19.03453835\n",
      " 12.53305611]\n"
     ]
    },
    {
     "data": {
      "text/plain": [
       "(1.0, 50.0)"
      ]
     },
     "execution_count": 13,
     "metadata": {},
     "output_type": "execute_result"
    },
    {
     "data": {
      "image/png": "[encoded data removed]",
      "text/plain": [
       "<Figure size 640x480 with 1 Axes>"
      ]
     },
     "metadata": {},
     "output_type": "display_data"
    }
   ],
   "source": [
    "# !pip install scipy\n",
    "# import uniform distribution\n",
    "from scipy.stats import uniform\n",
    "\n",
    "n = 10000\n",
    "a = 10\n",
    "width = 20 # b = 30\n",
    "\n",
    "#rvs stands for random variates, which simply generate random numbers\n",
    "#based on the distribution\n",
    "data_uniform = uniform.rvs(size=n, loc=a, scale=width)\n",
    "\n",
    "print(data_uniform)\n",
    "#plot the data\n",
    "plt.hist(data_uniform, density=True)  ##density=True makes sum=1\n",
    "plt.xlim(1, 50)\n",
    "\n",
    "#notice 1/(b-a) = 0.05"
   ]
  },
  {
   "cell_type": "code",
   "execution_count": null,
   "metadata": {},
   "outputs": [],
   "source": []
  }
 ],
 "metadata": {
  "kernelspec": {
   "display_name": "Python 3",
   "language": "python",
   "name": "python3"
  },
  "language_info": {
   "codemirror_mode": {
    "name": "ipython",
    "version": 3
   },
   "file_extension": ".py",
   "mimetype": "text/x-python",
   "name": "python",
   "nbconvert_exporter": "python",
   "pygments_lexer": "ipython3",
   "version": "3.13.0"
  }
 },
 "nbformat": 4,
 "nbformat_minor": 2
}
